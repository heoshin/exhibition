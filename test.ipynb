{
 "cells": [
  {
   "cell_type": "code",
   "execution_count": 17,
   "source": [
    "import pandas as pd\r\n",
    "import numpy as np\r\n",
    "from gensim.models import Word2Vec\r\n",
    "\r\n",
    "path = \"./물금고등학교-익명의-숲_진로편/\"\r\n"
   ],
   "outputs": [],
   "metadata": {}
  },
  {
   "cell_type": "code",
   "execution_count": 12,
   "source": [
    "df_morphs = pd.read_csv(path + 'morphs.csv', converters={'morph': eval})\r\n",
    "morphs = df_morphs['morph'].to_list()\r\n",
    "\r\n",
    "df_cat = pd.read_csv(path + 'data/category.csv')"
   ],
   "outputs": [],
   "metadata": {}
  },
  {
   "cell_type": "code",
   "execution_count": 13,
   "source": [
    "word2vec = Word2Vec(morphs, min_count=5)"
   ],
   "outputs": [],
   "metadata": {}
  },
  {
   "cell_type": "code",
   "execution_count": 16,
   "source": [
    "type_sim_words = dict()\r\n",
    "for type_name, type_words in df_cat.iteritems():\r\n",
    "    type_sim_words[type_name] = []\r\n",
    "    for type_word in type_words:\r\n",
    "        type_sim_words[type_name].extend([type_word])\r\n",
    "        if type_word in word2vec.wv:\r\n",
    "            type_sim_words[type_name].extend(np.array(word2vec.wv.most_similar(type_word, topn=5))[:, 0])\r\n",
    "            \r\n",
    "            # print(type_word, type_sim_words[-1])\r\n",
    "    print(len(type_sim_words[type_name]), len(set(type_sim_words[type_name])))\r\n",
    "    type_sim_words[type_name] = list(set(type_sim_words[type_name]))[:80]"
   ],
   "outputs": [
    {
     "output_type": "stream",
     "name": "stdout",
     "text": [
      "178 96\n",
      "178 87\n",
      "173 96\n",
      "173 81\n",
      "193 101\n",
      "208 109\n"
     ]
    }
   ],
   "metadata": {}
  },
  {
   "cell_type": "code",
   "execution_count": 15,
   "source": [
    "df_type = pd.DataFrame(type_sim_words, columns=df_cat.columns)\r\n",
    "df_type.to_csv(path + 'data/category_sim.csv', index=False)\r\n"
   ],
   "outputs": [],
   "metadata": {}
  },
  {
   "cell_type": "code",
   "execution_count": 67,
   "source": [
    "list_count = []\r\n",
    "for idx, (writer, words) in df_morphs[['writer', 'morph']].iterrows():\r\n",
    "    list_count.append([])\r\n",
    "    for type_name, type_words in df_type.iteritems():\r\n",
    "        count = 0\r\n",
    "        for word in words:\r\n",
    "            if word in word2vec.wv:\r\n",
    "                sim_word = np.array(word2vec.wv.most_similar(word, topn=5))[:, 0]\r\n",
    "                count += len(set(type_words) & set(sim_word))\r\n",
    "                # if type_word in np.array(word2vec.wv.most_similar(word, topn=10))[:, 0]:\r\n",
    "                #     print(word, type_word)\r\n",
    "        list_count[-1].append(count)\r\n",
    "            # print('점' in np.array(word2vec.wv.most_similar(word))[:, 0])\r\n",
    "    # print(writer, list_count[-1])"
   ],
   "outputs": [],
   "metadata": {}
  },
  {
   "cell_type": "code",
   "execution_count": 68,
   "source": [
    "df_count = df_morphs\r\n",
    "df_count['count'] = list_count\r\n",
    "df_count.drop(df_count[df_count['count'].apply(sum) < 100].index, inplace=True)\r\n"
   ],
   "outputs": [],
   "metadata": {}
  },
  {
   "cell_type": "code",
   "execution_count": 69,
   "source": [
    "df_count.to_csv(path + 'count.csv', index=False)"
   ],
   "outputs": [],
   "metadata": {}
  },
  {
   "cell_type": "code",
   "execution_count": null,
   "source": [],
   "outputs": [],
   "metadata": {}
  }
 ],
 "metadata": {
  "orig_nbformat": 4,
  "language_info": {
   "name": "python",
   "version": "3.9.5",
   "mimetype": "text/x-python",
   "codemirror_mode": {
    "name": "ipython",
    "version": 3
   },
   "pygments_lexer": "ipython3",
   "nbconvert_exporter": "python",
   "file_extension": ".py"
  },
  "kernelspec": {
   "name": "python3",
   "display_name": "Python 3.9.5 64-bit ('Selenium': conda)"
  },
  "interpreter": {
   "hash": "a653d3eae310ee386009b4b9c93769b2c1a16ddee1d81d857dd37316d5a6a086"
  }
 },
 "nbformat": 4,
 "nbformat_minor": 2
}